{
 "cells": [
  {
   "cell_type": "markdown",
   "id": "3f7ced0a",
   "metadata": {},
   "source": [
    "# Opgaver\n",
    "\n",
    "\n",
    "## 1. `if`\n",
    "Skriv et program, som spørger brugeren om en alder og tjekker, om personen er over 18.\n",
    "\n",
    "Tip: brug `input()` og husk at konvertere teksten til heltal med `int()`"
   ]
  },
  {
   "cell_type": "code",
   "execution_count": 3,
   "id": "defbfcbb",
   "metadata": {},
   "outputs": [
    {
     "name": "stdout",
     "output_type": "stream",
     "text": [
      "Hej kaj\n"
     ]
    }
   ],
   "source": [
    "# Svar\n",
    "x = input(\"hvad hedder du\")\n",
    "print(\"Hej \" + x)"
   ]
  },
  {
   "cell_type": "markdown",
   "id": "a19e5309",
   "metadata": {},
   "source": [
    "## 2. if else\n",
    "\n",
    "Skriv et program, der spørger efter et tal fortæller brugen om det er lige eller ulige. \n",
    "\n",
    "Tip: brug `modulus` og `print()`"
   ]
  },
  {
   "cell_type": "code",
   "execution_count": null,
   "id": "76166158",
   "metadata": {},
   "outputs": [],
   "source": [
    "# Svar"
   ]
  },
  {
   "cell_type": "markdown",
   "id": "b881dbce",
   "metadata": {},
   "source": [
    "## 3. range()\n",
    "\n",
    "Spørg brugeren om et tal, og brug `range()` til at tælle fra 0 op til (men ikke med) det tal."
   ]
  },
  {
   "cell_type": "code",
   "execution_count": null,
   "id": "fbdbb3f6",
   "metadata": {},
   "outputs": [],
   "source": [
    "# Svar"
   ]
  },
  {
   "cell_type": "markdown",
   "id": "1f28b2a1",
   "metadata": {},
   "source": [
    "## 4. for x in range()\n",
    "\n",
    "Spørg brugeren, hvor mange gange en besked skal printes, og gentag det med `for x in range`."
   ]
  },
  {
   "cell_type": "code",
   "execution_count": null,
   "id": "c41ef91f",
   "metadata": {},
   "outputs": [],
   "source": [
    "# Svar"
   ]
  },
  {
   "cell_type": "markdown",
   "id": "19d2af59",
   "metadata": {},
   "source": [
    "## 5. Print de små gangetabeller\n",
    "Spørg brugeren om en lille tabel, fx 7. \n",
    "Print tabellen pænt. "
   ]
  },
  {
   "cell_type": "code",
   "execution_count": null,
   "id": "2e59a7bd",
   "metadata": {},
   "outputs": [],
   "source": [
    "# Svar"
   ]
  },
  {
   "cell_type": "markdown",
   "id": "6ec0a74f",
   "metadata": {},
   "source": [
    "## 6. Kørekort \n",
    "Spørg brugeren om alder. Giv svar på om vedkommende kan få kørekort. Husk at man også kan være for gammel. Og husk de 17-årige som er et særligt tilfælde."
   ]
  },
  {
   "cell_type": "code",
   "execution_count": null,
   "id": "e6ef0be7",
   "metadata": {},
   "outputs": [],
   "source": []
  }
 ],
 "metadata": {
  "kernelspec": {
   "display_name": "Python 3",
   "language": "python",
   "name": "python3"
  },
  "language_info": {
   "codemirror_mode": {
    "name": "ipython",
    "version": 3
   },
   "file_extension": ".py",
   "mimetype": "text/x-python",
   "name": "python",
   "nbconvert_exporter": "python",
   "pygments_lexer": "ipython3",
   "version": "3.12.5"
  }
 },
 "nbformat": 4,
 "nbformat_minor": 5
}
