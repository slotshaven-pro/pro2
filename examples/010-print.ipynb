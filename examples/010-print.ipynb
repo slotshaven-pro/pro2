{
 "cells": [
  {
   "cell_type": "markdown",
   "id": "c7323d7f",
   "metadata": {},
   "source": [
    "### Eksempel 1: Strenge sat sammen med `+`"
   ]
  },
  {
   "cell_type": "code",
   "execution_count": null,
   "id": "db39bf63",
   "metadata": {},
   "outputs": [],
   "source": [
    "a = 'Hej'\n",
    "b = 'Verden'\n",
    "print(a + ' ' + b)"
   ]
  },
  {
   "cell_type": "markdown",
   "id": "f7036da8",
   "metadata": {},
   "source": [
    "Output: `Hej Verden`"
   ]
  },
  {
   "cell_type": "markdown",
   "id": "f3fb2f90",
   "metadata": {},
   "source": [
    "### Eksempel 2: Strenge sat sammen med `,` (flere parametre i print)"
   ]
  },
  {
   "cell_type": "code",
   "execution_count": null,
   "id": "a8545182",
   "metadata": {},
   "outputs": [],
   "source": [
    "a = 'Hej'\n",
    "b = 'Verden'\n",
    "print(a, b)"
   ]
  },
  {
   "cell_type": "markdown",
   "id": "1459fc66",
   "metadata": {},
   "source": [
    "Output: `Hej Verden`"
   ]
  },
  {
   "cell_type": "markdown",
   "id": "41d21966",
   "metadata": {},
   "source": [
    "### Eksempel 3: Strenge sat sammen med f-strings"
   ]
  },
  {
   "cell_type": "code",
   "execution_count": null,
   "id": "58ba5a2b",
   "metadata": {},
   "outputs": [],
   "source": [
    "name = 'Anna'\n",
    "age = 25\n",
    "print(f'Mit navn er {name} og jeg er {age} år.')"
   ]
  },
  {
   "cell_type": "markdown",
   "id": "4cfcf4bd",
   "metadata": {},
   "source": [
    "Output: `Mit navn er Anna og jeg er 25 år.`"
   ]
  },
  {
   "cell_type": "markdown",
   "id": "4ad7d56f",
   "metadata": {},
   "source": [
    "### Eksempel 4: Strenge og tal kombineret med `int()`"
   ]
  },
  {
   "cell_type": "code",
   "execution_count": null,
   "id": "7f5c0cc1",
   "metadata": {},
   "outputs": [],
   "source": [
    "x = '5'\n",
    "y = 3\n",
    "print('Summen er', int(x) + y)"
   ]
  },
  {
   "cell_type": "markdown",
   "id": "c80b8e95",
   "metadata": {},
   "source": [
    "Output: `Summen er 8`"
   ]
  },
  {
   "cell_type": "markdown",
   "id": "cb854b4c",
   "metadata": {},
   "source": [
    "### Eksempel 5: Eksempler med `end` og `sep`"
   ]
  },
  {
   "cell_type": "code",
   "execution_count": null,
   "id": "c5971e85",
   "metadata": {},
   "outputs": [],
   "source": [
    "print('A', 'B', 'C', sep='-')\n",
    "print('Linje 1', end=' ')\n",
    "print('fortsætter på samme linje')"
   ]
  },
  {
   "cell_type": "markdown",
   "id": "624594be",
   "metadata": {},
   "source": [
    "Output:\n",
    "```\n",
    "A-B-C\n",
    "Linje 1 fortsætter på samme linje\n",
    "```"
   ]
  }
 ],
 "metadata": {},
 "nbformat": 4,
 "nbformat_minor": 5
}
