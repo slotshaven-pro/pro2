{
    "cells": [
        {
            "cell_type": "markdown",
            "metadata": {},
            "source": [
                "# Almindelige funktioner på strenge\n",
                "\n",
                "- join()\n",
                "- split()\n",
                "- strip()\n",
                "- replace()\n",
                "- find()\n",
                "- lower()\n",
                "- upper()\n",
                "- startswith()\n",
                "- endswith()\n",
                "- format()\n",
                "\n",
                "\n"
            ]
        },
        {
            "cell_type": "markdown",
            "metadata": {},
            "source": [
                "## 1. join()\n",
                "Bruges til at sammenføje elementer i en liste til én streng med et specifikt separator-tegn."
            ]
        },
        {
            "cell_type": "code",
            "execution_count": null,
            "metadata": {},
            "outputs": [],
            "source": [
                "ord = ['æble', 'banan', 'citron']\n",
                "sammensat = ', '.join(ord)\n",
                "print(sammensat)  # Output: æble, banan, citron"
            ]
        },
        {
            "cell_type": "markdown",
            "metadata": {},
            "source": [
                "## 2. split()\n",
                "Opdeler en streng i en liste baseret på et separator-tegn."
            ]
        },
        {
            "cell_type": "code",
            "execution_count": null,
            "metadata": {},
            "outputs": [],
            "source": [
                "tekst = 'København,Århus,Odense'\n",
                "byer = tekst.split(',')\n",
                "print(byer)  # Output: ['København', 'Århus', 'Odense']"
            ]
        },
        {
            "cell_type": "markdown",
            "metadata": {},
            "source": [
                "## 3. strip()\n",
                "Fjerner mellemrum eller specificerede tegn fra start og slut af en streng."
            ]
        },
        {
            "cell_type": "code",
            "execution_count": null,
            "metadata": {},
            "outputs": [],
            "source": [
                "tekst = '   Hej Danmark!   '\n",
                "renset = tekst.strip()\n",
                "print(renset)  # Output: 'Hej Danmark!'"
            ]
        },
        {
            "cell_type": "markdown",
            "metadata": {},
            "source": [
                "## 4. replace()\n",
                "Erstatter alle forekomster af en delstreng med en anden."
            ]
        },
        {
            "cell_type": "code",
            "execution_count": null,
            "metadata": {},
            "outputs": [],
            "source": [
                "tekst = 'god morgen og god dag'\n",
                "ny_tekst = tekst.replace('god', 'dejlig')\n",
                "print(ny_tekst)  # Output: 'dejlig morgen og dejlig dag'"
            ]
        },
        {
            "cell_type": "markdown",
            "metadata": {},
            "source": [
                "## 5. find()\n",
                "Finder første position af en delstreng."
            ]
        },
        {
            "cell_type": "code",
            "execution_count": null,
            "metadata": {},
            "outputs": [],
            "source": [
                "tekst = 'Velkommen til Danmark'\n",
                "position = tekst.find('Danmark')\n",
                "print(position)  # Output: 14"
            ]
        },
        {
            "cell_type": "markdown",
            "metadata": {},
            "source": [
                "## 6. lower()\n",
                "Konverterer en streng til små bogstaver."
            ]
        },
        {
            "cell_type": "code",
            "execution_count": null,
            "metadata": {},
            "outputs": [],
            "source": [
                "tekst = 'KØBENHAVN'\n",
                "lowercase = tekst.lower()\n",
                "print(lowercase)  # Output: 'københavn'"
            ]
        },
        {
            "cell_type": "markdown",
            "metadata": {},
            "source": [
                "## 7. upper()\n",
                "Konverterer en streng til store bogstaver."
            ]
        },
        {
            "cell_type": "code",
            "execution_count": null,
            "metadata": {},
            "outputs": [],
            "source": [
                "tekst = 'rødgrød med fløde'\n",
                "uppercase = tekst.upper()\n",
                "print(uppercase)  # Output: 'RØDGRØD MED FLØDE'"
            ]
        },
        {
            "cell_type": "markdown",
            "metadata": {},
            "source": [
                "## 8. startswith()\n",
                "Kontrollerer om en streng starter med en bestemt delstreng."
            ]
        },
        {
            "cell_type": "code",
            "execution_count": null,
            "metadata": {},
            "outputs": [],
            "source": [
                "tekst = 'Danmark er et land'\n",
                "starter_med = tekst.startswith('Danmark')\n",
                "print(starter_med)  # Output: True"
            ]
        },
        {
            "cell_type": "markdown",
            "metadata": {},
            "source": [
                "## 9. endswith()\n",
                "Kontrollerer om en streng slutter med en bestemt delstreng."
            ]
        },
        {
            "cell_type": "code",
            "execution_count": null,
            "metadata": {},
            "outputs": [],
            "source": [
                "filnavn = 'dokument.pdf'\n",
                "er_pdf = filnavn.endswith('.pdf')\n",
                "print(er_pdf)  # Output: True"
            ]
        },
        {
            "cell_type": "markdown",
            "metadata": {},
            "source": [
                "## 10. format()\n",
                "Formaterer en streng ved at indsætte værdier i placeholders."
            ]
        },
        {
            "cell_type": "code",
            "execution_count": null,
            "metadata": {},
            "outputs": [],
            "source": [
                "navn = 'Anders'\n",
                "alder = 30\n",
                "tekst = 'Hej, jeg hedder {} og er {} år gammel'.format(navn, alder)\n",
                "print(tekst)  # Output: 'Hej, jeg hedder Anders og er 30 år gammel'"
            ]
        }
    ],
    "metadata": {
        "kernelspec": {
            "display_name": "Python 3",
            "language": "python",
            "name": "python3"
        }
    },
    "nbformat": 4,
    "nbformat_minor": 5
}
