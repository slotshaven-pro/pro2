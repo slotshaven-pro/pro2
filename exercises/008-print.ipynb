{
 "cells": [
  {
   "cell_type": "markdown",
   "id": "55ab3044",
   "metadata": {},
   "source": [
    "# Opgaver med print()"
   ]
  },
  {
   "cell_type": "markdown",
   "id": "d2f66769",
   "metadata": {},
   "source": [
    "### Opgave\n",
    "\n",
    "Her er tre variable\n",
    "```\n",
    "age = 12\n",
    "name = 'Peter'\n",
    "hobby = 'spejder'\n",
    "```\n",
    "\n",
    "Print sætningen \"Peter er 12 år gammel og går til spejder\" på tre måder:\n",
    "- separer variablerne med +\n",
    "- kommaseparerede variable\n",
    "- brug print \"format\" dvs. print(f'Hans navn er {navn}')"
   ]
  }
 ],
 "metadata": {
  "language_info": {
   "name": "python"
  }
 },
 "nbformat": 4,
 "nbformat_minor": 5
}
