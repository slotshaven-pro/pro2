{
 "cells": [
  {
   "cell_type": "markdown",
   "id": "55ab3044",
   "metadata": {},
   "source": [
    "# Opgaver med print()"
   ]
  },
  {
   "cell_type": "markdown",
   "id": "d16f79d6",
   "metadata": {},
   "source": []
  },
  {
   "cell_type": "markdown",
   "id": "d2f66769",
   "metadata": {},
   "source": [
    "### Opgave\n",
    "\n",
    "Her er tre variable\n",
    "```\n",
    "age = 12\n",
    "name = 'Peter'\n",
    "hobby = 'spejder'\n",
    "```\n",
    "\n",
    "Print sætningen \"Peter er 12 år gammel og går til spejder\" på tre måder:\n",
    "- separer variablerne med +\n",
    "- kommaseparerede variable\n",
    "- brug f-strings dvs. print(f'Hans navn er {navn}')\n",
    "\n",
    "Husk at håndtere datatyper med type casts - str()"
   ]
  },
  {
   "cell_type": "code",
   "execution_count": null,
   "id": "bd7fe630",
   "metadata": {},
   "outputs": [],
   "source": [
    "# indsæt din kode her\n",
    "\n"
   ]
  }
 ],
 "metadata": {
  "language_info": {
   "name": "python"
  }
 },
 "nbformat": 4,
 "nbformat_minor": 5
}
