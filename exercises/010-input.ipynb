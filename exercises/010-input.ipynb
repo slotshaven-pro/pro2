{
 "cells": [
  {
   "cell_type": "markdown",
   "id": "3f7ced0a",
   "metadata": {},
   "source": [
    "# Opgaver med input\n",
    "\n",
    "\n",
    "## 1. `if`\n",
    "Skriv et program, som spørger brugeren om en alder og tjekker, om personen er over 18.\n",
    "\n",
    "Tip: brug `input()` og husk at konvertere teksten til heltal med `int()`"
   ]
  },
  {
   "cell_type": "code",
   "execution_count": null,
   "id": "defbfcbb",
   "metadata": {},
   "outputs": [
    {
     "name": "stdout",
     "output_type": "stream",
     "text": [
      "du er den perfekte alder\n"
     ]
    }
   ],
   "source": [
    "# Put your code here"
   ]
  },
  {
   "cell_type": "markdown",
   "id": "a19e5309",
   "metadata": {},
   "source": [
    "## 2. if else\n",
    "\n",
    "Skriv et program, der spørger efter et tal fortæller brugen om det er lige eller ulige. \n",
    "\n",
    "Tip: brug `modulus` og `print()`"
   ]
  },
  {
   "cell_type": "code",
   "execution_count": null,
   "id": "76166158",
   "metadata": {},
   "outputs": [
    {
     "name": "stdout",
     "output_type": "stream",
     "text": [
      "lige\n"
     ]
    }
   ],
   "source": [
    "# Put your code here\n"
   ]
  },
  {
   "cell_type": "markdown",
   "id": "b881dbce",
   "metadata": {},
   "source": [
    "## 3. range()\n",
    "\n",
    "Spørg brugeren om et tal, x. Udskriv beskeden \"Jeg gentager mig selv\" x. \n",
    "\n",
    "Tip: brug 'range()`-funtionen til gentage beskeden."
   ]
  },
  {
   "cell_type": "code",
   "execution_count": null,
   "id": "fbdbb3f6",
   "metadata": {},
   "outputs": [
    {
     "name": "stdout",
     "output_type": "stream",
     "text": [
      "0 . jeg gentager mig selv\n",
      "1 . jeg gentager mig selv\n",
      "2 . jeg gentager mig selv\n",
      "3 . jeg gentager mig selv\n",
      "4 . jeg gentager mig selv\n",
      "5 . jeg gentager mig selv\n",
      "6 . jeg gentager mig selv\n",
      "7 . jeg gentager mig selv\n",
      "8 . jeg gentager mig selv\n",
      "9 . jeg gentager mig selv\n",
      "10 . jeg gentager mig selv\n",
      "11 . jeg gentager mig selv\n"
     ]
    }
   ],
   "source": [
    "# Put your code here"
   ]
  },
  {
   "cell_type": "markdown",
   "id": "1f28b2a1",
   "metadata": {},
   "source": [
    "## 4. for x in range()\n",
    "\n",
    "Spørg brugeren, hvor mange gange en besked skal printes, og gentag det med `for x in range`."
   ]
  },
  {
   "cell_type": "code",
   "execution_count": null,
   "id": "c41ef91f",
   "metadata": {},
   "outputs": [],
   "source": [
    "# Put your code here"
   ]
  },
  {
   "cell_type": "markdown",
   "id": "19d2af59",
   "metadata": {},
   "source": [
    "## 5. Print de små gangetabeller\n",
    "Spørg brugeren om en lille tabel, fx 7. \n",
    "Print tabellen pænt. "
   ]
  },
  {
   "cell_type": "code",
   "execution_count": 15,
   "id": "2e59a7bd",
   "metadata": {},
   "outputs": [],
   "source": [
    "# Put your code here"
   ]
  },
  {
   "cell_type": "markdown",
   "id": "6ec0a74f",
   "metadata": {},
   "source": [
    "## 6. Kørekort \n",
    "Spørg brugeren om alder. Giv svar på om vedkommende kan få kørekort. Husk at man også kan være for gammel. Og husk de 17-årige som er et særligt tilfælde."
   ]
  },
  {
   "cell_type": "code",
   "execution_count": 18,
   "id": "e6ef0be7",
   "metadata": {},
   "outputs": [],
   "source": [
    "# Put your code here\n",
    "\n"
   ]
  }
 ],
 "metadata": {
  "kernelspec": {
   "display_name": "Python 3",
   "language": "python",
   "name": "python3"
  },
  "language_info": {
   "codemirror_mode": {
    "name": "ipython",
    "version": 3
   },
   "file_extension": ".py",
   "mimetype": "text/x-python",
   "name": "python",
   "nbconvert_exporter": "python",
   "pygments_lexer": "ipython3",
   "version": "3.12.5"
  }
 },
 "nbformat": 4,
 "nbformat_minor": 5
}
