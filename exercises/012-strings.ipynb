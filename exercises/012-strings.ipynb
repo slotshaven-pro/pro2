{
 "cells": [
  {
   "cell_type": "markdown",
   "id": "df8cb792",
   "metadata": {},
   "source": [
    "# Strings (tekststrenge)\n",
    "\n",
    "## Byg en streng med funktionen join() \n",
    "\n",
    "Join-funktionen samler elementer med det streng-objekt som det kaldes på, som separator. Bemærk den benyttede _dot_-notation. \n",
    "\n",
    "`string.join('string1', 'string2')`\n",
    "\n",
    "Eksempel:\n",
    "```\n",
    "ex = ['1', '2', '3']\n",
    "print('-'.join(ex))\n",
    "```\n",
    "1-2-3\n",
    "\n",
    "## Find et tegn med indeks\n",
    "\n",
    "Ligesom lister er de enkelte tegn i en streng tilgængelige via indeks[i].\n",
    "\n",
    "Eksempel:\n",
    "```\n",
    "text = 'Bogstavet X har indeks 10'\n",
    "x = text[10]\n",
    "print('Bogstav:', x)\n",
    "````\n",
    "Bogstav: X\n"
   ]
  },
  {
   "cell_type": "markdown",
   "id": "7f6e3074",
   "metadata": {},
   "source": [
    "### Opgave 1\n",
    "Givet listen `['Alle', 'eleverne', 'lærer', 'python']`, brug `join()` til at udskrive \"alle eleverne lærer python\"."
   ]
  },
  {
   "cell_type": "code",
   "execution_count": null,
   "id": "fe9da13b",
   "metadata": {},
   "outputs": [],
   "source": [
    "text = ['Alle', 'eleverne', 'lærer', 'python']\n",
    "# indsæt din kode her"
   ]
  },
  {
   "cell_type": "markdown",
   "id": "5ed07792",
   "metadata": {},
   "source": [
    "### Opgave 2\n",
    "Brug `join()` til at lave en streng \"a,b,c,d\" fra listen `['a','b','c','d']`."
   ]
  },
  {
   "cell_type": "code",
   "execution_count": null,
   "id": "eee6c3e2",
   "metadata": {},
   "outputs": [],
   "source": [
    "x = ['a','b','c','d']\n",
    "# indsæt din kode her\n"
   ]
  },
  {
   "cell_type": "markdown",
   "id": "b9155a3e",
   "metadata": {},
   "source": [
    "### Opgave 3\n",
    "Brug `join()` til at samle tallene i listen `[1,2,3,4]` til strengen `'1-2-3-4'`."
   ]
  },
  {
   "cell_type": "code",
   "execution_count": null,
   "id": "b2b9f316",
   "metadata": {},
   "outputs": [],
   "source": [
    "numbers = [1,2,3,4]\n",
    "# indsæt din kode her\n"
   ]
  },
  {
   "cell_type": "markdown",
   "id": "bf4d7af2",
   "metadata": {},
   "source": [
    "### Opgave 4\n",
    "Tag strengen `'Python'` og udskriv alle bogstaver adskilt af mellemrum ved hjælp af `join()`."
   ]
  },
  {
   "cell_type": "code",
   "execution_count": null,
   "id": "1c280238",
   "metadata": {},
   "outputs": [],
   "source": [
    "s = 'Python'\n",
    "# indsæt din kode her"
   ]
  },
  {
   "cell_type": "markdown",
   "id": "d1f0f15f",
   "metadata": {},
   "source": [
    "### Opgave 5\n",
    "Givet strengen `'ABCDE'`, vend den om ved hjælp af streng-indeksering (`[::-1]`) og udskriv resultatet."
   ]
  },
  {
   "cell_type": "code",
   "execution_count": null,
   "id": "df051a20",
   "metadata": {},
   "outputs": [],
   "source": [
    "s = 'ABCDE'\n",
    "# indsæt din kode her"
   ]
  },
  {
   "cell_type": "markdown",
   "id": "2700b5d4",
   "metadata": {},
   "source": [
    "### Opgave 6\n",
    "Givet `'abcdefgh'`, brug indeksering til at danne en ny streng med kun hvert andet bogstav."
   ]
  },
  {
   "cell_type": "code",
   "execution_count": null,
   "id": "8bd2601c",
   "metadata": {},
   "outputs": [],
   "source": [
    "s = 'abcdefgh'\n",
    "# indsæt din kode her"
   ]
  },
  {
   "cell_type": "markdown",
   "id": "42cb10a0",
   "metadata": {},
   "source": [
    "### Opgave 7\n",
    "Givet en brugerindtastet streng, print det første og sidste bogstav ved hjælp af indeksering."
   ]
  },
  {
   "cell_type": "code",
   "execution_count": null,
   "id": "3d1590a6",
   "metadata": {},
   "outputs": [],
   "source": [
    "s = input('skriv noget')\n",
    "# indsæt din kode her"
   ]
  },
  {
   "cell_type": "markdown",
   "id": "97ccbe7f",
   "metadata": {},
   "source": [
    "### Opgave 8\n",
    "Brug `join()` på en liste med stumper som `['pro','gram','mer']` for at lave ét ord."
   ]
  },
  {
   "cell_type": "code",
   "execution_count": null,
   "id": "0ac1d650",
   "metadata": {},
   "outputs": [],
   "source": [
    "parts = ['pro','gram','mer']\n",
    "# indsæt din kode her\n",
    "\n"
   ]
  },
  {
   "cell_type": "markdown",
   "id": "ecd97e12",
   "metadata": {},
   "source": [
    "### Opgave 9\n",
    "Givet en streng, udskift alle tegn på lige positioner med `'*'`, men behold de andre. Brug streng-indeksering og `join()` til at bygge den nye streng."
   ]
  },
  {
   "cell_type": "code",
   "execution_count": null,
   "id": "f96b32fa",
   "metadata": {},
   "outputs": [],
   "source": [
    "s = 'pomfritter med ost på'\n",
    "# indsæt din kode her\n",
    "\n"
   ]
  }
 ],
 "metadata": {
  "kernelspec": {
   "display_name": "Python 3",
   "language": "python",
   "name": "python3"
  },
  "language_info": {
   "codemirror_mode": {
    "name": "ipython",
    "version": 3
   },
   "file_extension": ".py",
   "mimetype": "text/x-python",
   "name": "python",
   "nbconvert_exporter": "python",
   "pygments_lexer": "ipython3",
   "version": "3.12.5"
  }
 },
 "nbformat": 4,
 "nbformat_minor": 5
}
