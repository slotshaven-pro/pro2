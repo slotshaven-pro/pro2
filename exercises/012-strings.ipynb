{
 "cells": [
  {
   "cell_type": "markdown",
   "id": "df8cb792",
   "metadata": {},
   "source": [
    "# Strings (tekststrenge)\n",
    "\n",
    "Strenge har en lange række nyttige egenskaber. \n",
    "\n",
    "Her skal vi arbejde med join(), indeks [i] og splice.\n",
    "\n",
    "### Eksempel: join() \n",
    "```\n",
    "ex = ['hej', 'verden']\n",
    "print(' '.join(ex))\n",
    "```\n",
    "hej verden\n",
    "\n",
    "### Eksempel: indeks\n",
    "```\n",
    "text = 'Strings har indekser og funktioner.'\n",
    "bogstav5 = text[4]\n",
    "print(bogstav5)\n",
    "````\n",
    "n\n",
    "\n",
    "### Eksempel: splice [:]\n",
    "```\n",
    "text = 'Splice er meget pythonic'\n",
    "pythonic = text[16:]\n",
    "print(pythonic)\n",
    "````\n",
    "pythonic"
   ]
  },
  {
   "cell_type": "markdown",
   "id": "7f6e3074",
   "metadata": {},
   "source": [
    "### Opgave 1\n",
    "Givet listen `['Alle', 'eleverne', 'lærer', 'python']`, brug `join()` til at udskrive \"alle eleverne lærer python\"."
   ]
  },
  {
   "cell_type": "code",
   "execution_count": 5,
   "id": "fe9da13b",
   "metadata": {},
   "outputs": [
    {
     "name": "stdout",
     "output_type": "stream",
     "text": [
      "Alle eleverne lærer python\n"
     ]
    }
   ],
   "source": [
    "text = ['Alle', 'eleverne', 'lærer', 'python']\n"
   ]
  },
  {
   "cell_type": "markdown",
   "id": "5ed07792",
   "metadata": {},
   "source": [
    "### Opgave 2\n",
    "Brug `join()` til at lave en streng `'a,b,c,d'` fra listen `['a','b','c','d']`."
   ]
  },
  {
   "cell_type": "code",
   "execution_count": null,
   "id": "eee6c3e2",
   "metadata": {},
   "outputs": [],
   "source": [
    "\n",
    "\n",
    "# Result: a,b,c,d"
   ]
  },
  {
   "cell_type": "markdown",
   "id": "b9155a3e",
   "metadata": {},
   "source": [
    "### Opgave 3\n",
    "Brug `join()` til at samle tallene i listen `[\"1\",\"2\",\"3\",\"4\"]` til strengen `'1-2-3-4'`."
   ]
  },
  {
   "cell_type": "code",
   "execution_count": null,
   "id": "b2b9f316",
   "metadata": {},
   "outputs": [],
   "source": []
  },
  {
   "cell_type": "markdown",
   "id": "bf4d7af2",
   "metadata": {},
   "source": [
    "### Opgave 4\n",
    "Tag strengen `'Python'` og udskriv alle bogstaver adskilt af mellemrum ved hjælp af `join()`."
   ]
  },
  {
   "cell_type": "code",
   "execution_count": null,
   "id": "1c280238",
   "metadata": {},
   "outputs": [],
   "source": []
  },
  {
   "cell_type": "markdown",
   "id": "d1f0f15f",
   "metadata": {},
   "source": [
    "### Opgave 5\n",
    "Givet strengen `'ABCDE'`, vend den om ved hjælp af streng-indeksering (`[::-1]`) og udskriv resultatet."
   ]
  },
  {
   "cell_type": "code",
   "execution_count": null,
   "id": "df051a20",
   "metadata": {},
   "outputs": [],
   "source": []
  },
  {
   "cell_type": "markdown",
   "id": "2700b5d4",
   "metadata": {},
   "source": [
    "### Opgave 6\n",
    "Givet `'abcdefgh'`, brug indeksering til at danne en ny streng med kun hvert andet bogstav."
   ]
  },
  {
   "cell_type": "code",
   "execution_count": null,
   "id": "8bd2601c",
   "metadata": {},
   "outputs": [],
   "source": []
  },
  {
   "cell_type": "markdown",
   "id": "d0ecfcb7",
   "metadata": {},
   "source": [
    "### Opgave 7\n",
    "Tag `Python` og brug `join()` sammen med indeksering til at lave `'P-y-t-h-o-n '`."
   ]
  },
  {
   "cell_type": "code",
   "execution_count": null,
   "id": "02bfb339",
   "metadata": {},
   "outputs": [],
   "source": []
  },
  {
   "cell_type": "markdown",
   "id": "42cb10a0",
   "metadata": {},
   "source": [
    "### Opgave 8\n",
    "Givet en brugerindtastet streng, print det første og sidste bogstav ved hjælp af indeksering."
   ]
  },
  {
   "cell_type": "code",
   "execution_count": null,
   "id": "3d1590a6",
   "metadata": {},
   "outputs": [],
   "source": []
  },
  {
   "cell_type": "markdown",
   "id": "97ccbe7f",
   "metadata": {},
   "source": [
    "### Opgave 9\n",
    "Brug `join()` på en liste med stumper som `['pro','gram','mer']` for at lave ét ord."
   ]
  },
  {
   "cell_type": "code",
   "execution_count": null,
   "id": "0ac1d650",
   "metadata": {},
   "outputs": [],
   "source": []
  },
  {
   "cell_type": "markdown",
   "id": "ecd97e12",
   "metadata": {},
   "source": [
    "### Opgave 10\n",
    "Givet en streng, udskift alle tegn på ulige positioner med `'*'`, men behold de andre. Brug streng-indeksering og `join()` til at bygge den nye streng."
   ]
  },
  {
   "cell_type": "code",
   "execution_count": null,
   "id": "f96b32fa",
   "metadata": {},
   "outputs": [],
   "source": []
  }
 ],
 "metadata": {
  "kernelspec": {
   "display_name": "Python 3",
   "language": "python",
   "name": "python3"
  },
  "language_info": {
   "codemirror_mode": {
    "name": "ipython",
    "version": 3
   },
   "file_extension": ".py",
   "mimetype": "text/x-python",
   "name": "python",
   "nbconvert_exporter": "python",
   "pygments_lexer": "ipython3",
   "version": "3.12.5"
  }
 },
 "nbformat": 4,
 "nbformat_minor": 5
}
