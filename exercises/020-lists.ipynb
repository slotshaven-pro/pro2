{
 "cells": [
  {
   "cell_type": "markdown",
   "id": "e4205e78",
   "metadata": {},
   "source": [
    "# Lister\n",
    "\n",
    "Løs disse opgaver med lister.\n"
   ]
  },
  {
   "cell_type": "markdown",
   "id": "197e8e3f",
   "metadata": {},
   "source": [
    "### Opgave\n",
    "\n",
    "Her er en liste af elever. Lav gerne din egen liste.\n",
    "```\n",
    "students = ['Peter', 'Camilla', 'Søren', 'Ida', 'Henrik']\n",
    "```\n",
    "\n",
    "Test om Camilla er i listen."
   ]
  },
  {
   "cell_type": "code",
   "execution_count": 2,
   "id": "e0883baf",
   "metadata": {},
   "outputs": [],
   "source": [
    "students = ['Peter', 'Camilla', 'Søren', 'Ida', 'Henrik']\n",
    "# Skriv din løsning her\n",
    "\n"
   ]
  },
  {
   "cell_type": "markdown",
   "id": "dd12ae0e",
   "metadata": {},
   "source": [
    "### Opgave\n",
    "\n",
    "Test om et eller andet navn er i listen. \n",
    "\n",
    "Brug en variabel til at udskrive navnet hvis det er i listen.\n",
    "\n",
    "Undersøg hvordan man kan printe en variabel."
   ]
  },
  {
   "cell_type": "code",
   "execution_count": null,
   "id": "b9804f8d",
   "metadata": {},
   "outputs": [
    {
     "name": "stdout",
     "output_type": "stream",
     "text": [
      "et eller andet navn er i listen\n"
     ]
    }
   ],
   "source": [
    "name = \"et eller andet navn\"\n",
    "# Skriv din løsning her\n"
   ]
  },
  {
   "cell_type": "markdown",
   "id": "c196b1f2",
   "metadata": {},
   "source": [
    "### Opgave\n",
    "\n",
    "Tilføj et navn til listen og print alle navne med et komma i mellem med \"end\" parameteret.\n",
    "\n",
    "Tip: brug append()-funktionen."
   ]
  },
  {
   "cell_type": "code",
   "execution_count": null,
   "id": "365e21b2",
   "metadata": {},
   "outputs": [
    {
     "name": "stdout",
     "output_type": "stream",
     "text": [
      "Peter, Camilla, Søren, Ida, Henrik, "
     ]
    }
   ],
   "source": [
    "# Skriv din løsning her\n",
    "# husk at definere students først ved at køre cellerne ovenfor!\n"
   ]
  },
  {
   "cell_type": "markdown",
   "id": "995fbc5b",
   "metadata": {},
   "source": [
    "Hvordan kan vi fjerne det sidste komma?"
   ]
  },
  {
   "cell_type": "code",
   "execution_count": null,
   "id": "2da09724",
   "metadata": {},
   "outputs": [
    {
     "name": "stdout",
     "output_type": "stream",
     "text": [
      "Peter, Camilla, Søren, Ida, Henrik\n"
     ]
    }
   ],
   "source": [
    "# Skriv din løsning her\n",
    "# brug join()-funktionen som fungerer på en liste af strenge"
   ]
  }
 ],
 "metadata": {
  "kernelspec": {
   "display_name": "Python 3",
   "language": "python",
   "name": "python3"
  },
  "language_info": {
   "codemirror_mode": {
    "name": "ipython",
    "version": 3
   },
   "file_extension": ".py",
   "mimetype": "text/x-python",
   "name": "python",
   "nbconvert_exporter": "python",
   "pygments_lexer": "ipython3",
   "version": "3.12.5"
  }
 },
 "nbformat": 4,
 "nbformat_minor": 5
}
