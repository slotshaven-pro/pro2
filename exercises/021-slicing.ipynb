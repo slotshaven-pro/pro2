{
 "cells": [
  {
   "cell_type": "markdown",
   "id": "6aa17e6e",
   "metadata": {},
   "source": [
    "# Slicing og splice-operatoren\n",
    "I Python kan man tage dele af en liste eller streng ved at bruge _slicing_.\n",
    "\n",
    "**Syntaks:**\n",
    "`[start:end:step]`\n",
    "\n",
    "Denne syntax kaldes for _splice_ operatoren.\n",
    "\n",
    "- `mylist[start:end]` giver elementerne fra `start`-indeks til lige før `stop`-indeks.\n",
    "- `mylist[start:end:step]` giver elementer med et interval.\n",
    "- Hvis `start` eller `end` udelades, bruges begyndelsen eller enden.\n",
    "- Negative tal tæller fra slutningen.\n",
    "\n",
    "Eksempel:\n",
    "```python\n",
    "nums = [0,1,2,3,4,5]\n",
    "print(nums[1:4])   # [1,2,3]\n",
    "print(nums[:3])    # [0,1,2]\n",
    "print(nums[::2])   # [0,2,4]\n",
    "print(nums[-2:])   # [4,5]\n",
    "```\n",
    "\n",
    "Løs følgende opgaver."
   ]
  },
  {
   "cell_type": "markdown",
   "id": "44b0a3a8",
   "metadata": {},
   "source": [
    "### Opgave 1\n",
    "Lav en liste med tal fra 1 til 5. Brug slicing til at udskrive de tre første elementer."
   ]
  },
  {
   "cell_type": "code",
   "execution_count": null,
   "id": "df09b9b1",
   "metadata": {},
   "outputs": [],
   "source": []
  },
  {
   "cell_type": "markdown",
   "id": "53cf3cd9",
   "metadata": {},
   "source": [
    "### Opgave 2\n",
    "Lav en liste med farver `['rød','blå','grøn','gul']`. Tjek med `in`, om `'grøn'` findes i listen."
   ]
  },
  {
   "cell_type": "code",
   "execution_count": null,
   "id": "b49ba007",
   "metadata": {},
   "outputs": [],
   "source": []
  },
  {
   "cell_type": "markdown",
   "id": "4f06d6b2",
   "metadata": {},
   "source": [
    "### Opgave 3\n",
    "Givet listen `['a','b','c','d','e']`, brug slicing til at udskrive hvert andet bogstav."
   ]
  },
  {
   "cell_type": "code",
   "execution_count": null,
   "id": "1369cc9a",
   "metadata": {},
   "outputs": [],
   "source": []
  },
  {
   "cell_type": "markdown",
   "id": "393591ed",
   "metadata": {},
   "source": [
    "### Opgave 4\n",
    "Lav en liste `['kat','hund','fugl']`. Spørg brugeren om et dyr og tjek med `in`, om dyret findes i listen."
   ]
  },
  {
   "cell_type": "code",
   "execution_count": null,
   "id": "8259029a",
   "metadata": {},
   "outputs": [],
   "source": []
  },
  {
   "cell_type": "markdown",
   "id": "e13dc7c3",
   "metadata": {},
   "source": [
    "### Opgave 5\n",
    "Givet listen med tal `[10,20,30,40,50,60]`, brug slicing til at udskrive de sidste tre tal."
   ]
  },
  {
   "cell_type": "code",
   "execution_count": null,
   "id": "f8e18001",
   "metadata": {},
   "outputs": [],
   "source": []
  }
 ],
 "metadata": {
  "language_info": {
   "name": "python"
  }
 },
 "nbformat": 4,
 "nbformat_minor": 5
}
