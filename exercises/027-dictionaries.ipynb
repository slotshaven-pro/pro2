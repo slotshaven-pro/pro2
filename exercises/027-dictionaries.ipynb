{
 "cells": [
  {
   "cell_type": "markdown",
   "id": "2fb9b198",
   "metadata": {},
   "source": [
    "# Øvelser med dictionaries\n"
   ]
  },
  {
   "cell_type": "markdown",
   "id": "5d00b0c3",
   "metadata": {},
   "source": [
    "### Øvelse 1\n",
    "Lav et dictionary med to danske byer og deres postnumre. Tilføj derefter en tredje by."
   ]
  },
  {
   "cell_type": "code",
   "execution_count": null,
   "id": "7b52acbe",
   "metadata": {},
   "outputs": [],
   "source": [
    "# Skriv din løsning her"
   ]
  },
  {
   "cell_type": "markdown",
   "id": "79bdc12a",
   "metadata": {},
   "source": [
    "### Øvelse 2\n",
    "Opret et dictionary med 3 varer og deres antal. Tjek med `get()` hvor mange \"bananer\" der er. Brug default 0."
   ]
  },
  {
   "cell_type": "code",
   "execution_count": null,
   "id": "61426b53",
   "metadata": {},
   "outputs": [],
   "source": [
    "# Skriv din løsning her"
   ]
  },
  {
   "cell_type": "markdown",
   "id": "2219556d",
   "metadata": {},
   "source": [
    "### Øvelse 3\n",
    "Lav et dictionary med navne på 3 elever og deres klassetrin. Tjek om \"Freja\" er i listen."
   ]
  },
  {
   "cell_type": "code",
   "execution_count": null,
   "id": "2f91b4a5",
   "metadata": {},
   "outputs": [],
   "source": [
    "# Skriv din løsning her"
   ]
  },
  {
   "cell_type": "markdown",
   "id": "eafb6529",
   "metadata": {},
   "source": [
    "### Øvelse 4\n",
    "Lav et dictionary med 3 danske kommuner og deres indbyggertal. Gennemløb og udskriv hver kommune."
   ]
  },
  {
   "cell_type": "code",
   "execution_count": null,
   "id": "8cff11a3",
   "metadata": {},
   "outputs": [],
   "source": [
    "# Skriv din løsning her"
   ]
  },
  {
   "cell_type": "markdown",
   "id": "74a7c70e",
   "metadata": {},
   "source": [
    "### Øvelse 5\n",
    "Lav et dictionary med fag og tidspunkter. Udskriv:\n",
    "1. Alle fag (keys)\n",
    "2. Alle tidspunkter (values)\n",
    "3. Alle par (items)"
   ]
  },
  {
   "cell_type": "code",
   "execution_count": null,
   "id": "12828c30",
   "metadata": {},
   "outputs": [],
   "source": [
    "# Skriv din løsning her"
   ]
  },
  {
   "cell_type": "markdown",
   "id": "d23076cc",
   "metadata": {},
   "source": [
    "### Øvelse 6\n",
    "Opret et dictionary med tre varer og priser. Brug `pop()` til at fjerne en af varerne og udskriv den fjernede værdi."
   ]
  },
  {
   "cell_type": "code",
   "execution_count": null,
   "id": "170f3e1c",
   "metadata": {},
   "outputs": [],
   "source": [
    "# Skriv din løsning her"
   ]
  },
  {
   "cell_type": "markdown",
   "id": "8fa1b0d0",
   "metadata": {},
   "source": [
    "### Øvelse 7\n",
    "Opret en indkøbskurv med 3 varer. Fjern én vare med `del` og en anden med `pop()`."
   ]
  },
  {
   "cell_type": "code",
   "execution_count": null,
   "id": "afd48738",
   "metadata": {},
   "outputs": [],
   "source": [
    "# Skriv din løsning her"
   ]
  },
  {
   "cell_type": "markdown",
   "id": "959bc114",
   "metadata": {},
   "source": [
    "### Øvelse 8\n",
    "Lav et dictionary hvor tallene fra 1–5 er nøgler og deres kvadrater er værdier."
   ]
  },
  {
   "cell_type": "code",
   "execution_count": null,
   "id": "d373e093",
   "metadata": {},
   "outputs": [],
   "source": [
    "# Skriv din løsning her"
   ]
  },
  {
   "cell_type": "markdown",
   "id": "9f69ae77",
   "metadata": {},
   "source": [
    "### Øvelse 9\n",
    "Lav et dictionary med tre elever og deres karakterer. Brug `values()` til at finde gennemsnittet af karaktererne."
   ]
  },
  {
   "cell_type": "code",
   "execution_count": null,
   "id": "cb69d308",
   "metadata": {},
   "outputs": [],
   "source": [
    "# Skriv din løsning her"
   ]
  },
  {
   "cell_type": "markdown",
   "id": "3b68d77d",
   "metadata": {},
   "source": [
    "### Øvelse 10\n",
    "Lav et dictionary med to elever. Hver elev skal have navn, klasse og email. Udskriv klassen for den ene elev."
   ]
  },
  {
   "cell_type": "code",
   "execution_count": null,
   "id": "f7221d19",
   "metadata": {},
   "outputs": [],
   "source": [
    "# Skriv din løsning her"
   ]
  }
 ],
 "metadata": {
  "language_info": {
   "name": "python"
  }
 },
 "nbformat": 4,
 "nbformat_minor": 5
}
