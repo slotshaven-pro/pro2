{
 "cells": [
  {
   "cell_type": "markdown",
   "id": "5efcc004",
   "metadata": {},
   "source": [
    "# Jupyter Workbooks\n",
    "\n",
    "I workbooks kan man blande kode og dokumentation. \n",
    "\n",
    "I en python workbook kan cellerne indeholde python-kode eller markdown.\n",
    "\n",
    "Koden kan afvikles celle for celle, eller alle celler på en gang.\n",
    "Celler \"husker\" hvad der skete i alle foregåede celler. \n",
    "\n",
    "I den næste celle afvikler vi python.\n",
    "Vi definerer en tekst og udskriver den baglæns."
   ]
  },
  {
   "cell_type": "code",
   "execution_count": 14,
   "id": "57e809a5",
   "metadata": {},
   "outputs": [
    {
     "name": "stdout",
     "output_type": "stream",
     "text": [
      "koobkrow ne i nohtyp re etteD\n"
     ]
    }
   ],
   "source": [
    "tekst = 'Dette er python i en workbook'\n",
    "print(tekst[::-1])\n",
    "\n",
    "x = 10\n",
    "# Resultatet er: koobkrow ne i nohtyp re etteD"
   ]
  },
  {
   "cell_type": "markdown",
   "id": "ebb9b5a8",
   "metadata": {},
   "source": [
    "Koden afvikles ved at trykke på pilen øverst til venstre.\n",
    "Resultatet ses her ovenfor &uarr;\n",
    "# Markdown\n",
    "Nu er vi tilbage i markdown. \n",
    "\n",
    "Markdown er en simpel udgave af opmærkningsprog. \n",
    "\n",
    "Lister markeres med tom linje + en bindestreg. Eksempel\n",
    "\n",
    "```\n",
    "- punkt 1\n",
    "- punkt 2\n",
    "- punkt 3\n",
    "```\n",
    "\n",
    "Det ser sådan ud: \n",
    "\n",
    "- punkt 1\n",
    "- punkt 2\n",
    "- punkt 3\n",
    "\n",
    "Når du er færdig med en celle, husk at trykke på flueben ✓ for at se resultatet. \n"
   ]
  },
  {
   "cell_type": "markdown",
   "id": "566bc1e5",
   "metadata": {},
   "source": []
  },
  {
   "cell_type": "markdown",
   "id": "6f5f688a",
   "metadata": {},
   "source": [
    "## Øvelse \n",
    "\n",
    "Lav din egen workbook. \n",
    "\n",
    "- Installer extension.\n",
    "- Tast SHIFT+WINDOWS+P og skriv \"create\".\n",
    "- Vælg \"Create: New Jupyter Workbook\"\n",
    "- Vælg Interpreter\n",
    "\n",
    "Derefter:\n",
    "\n",
    "- opret en markdown-celle\n",
    "- opret python-celle\n"
   ]
  },
  {
   "cell_type": "code",
   "execution_count": 13,
   "id": "a507c039",
   "metadata": {},
   "outputs": [
    {
     "name": "stdout",
     "output_type": "stream",
     "text": [
      "10\n"
     ]
    }
   ],
   "source": [
    "print(x)"
   ]
  }
 ],
 "metadata": {
  "kernelspec": {
   "display_name": "Python 3",
   "language": "python",
   "name": "python3"
  },
  "language_info": {
   "codemirror_mode": {
    "name": "ipython",
    "version": 3
   },
   "file_extension": ".py",
   "mimetype": "text/x-python",
   "name": "python",
   "nbconvert_exporter": "python",
   "pygments_lexer": "ipython3",
   "version": "3.12.5"
  }
 },
 "nbformat": 4,
 "nbformat_minor": 5
}
