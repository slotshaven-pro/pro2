{
 "cells": [
  {
   "cell_type": "markdown",
   "id": "dfa3879f",
   "metadata": {},
   "source": [
    "# Lister i Python\n",
    "\n",
    "Her følger en række eksempler på hvordan man kan arbejde med lister.\n",
    "\n",
    "Fremgangsmåde: \n",
    "Læs forklaringen, og afprøv derefter eksemplet."
   ]
  },
  {
   "cell_type": "markdown",
   "id": "71fb4d1e",
   "metadata": {},
   "source": [
    "### Dupletter\n",
    "Lister tillader dupletter.\n",
    "\n",
    "Vi kan have samme værdi flere gange i en liste."
   ]
  },
  {
   "cell_type": "code",
   "execution_count": null,
   "id": "ce64c229",
   "metadata": {},
   "outputs": [],
   "source": [
    "cities = [\"Aarhus\", \"Odense\", \"Aarhus\", \"Aalborg\"]  # duplicates allowed\n",
    "print(cities)\n",
    "# Count how many times \"Aarhus\" appears\n",
    "print(cities.count(\"Aarhus\"))"
   ]
  },
  {
   "cell_type": "markdown",
   "id": "fac8934b",
   "metadata": {},
   "source": [
    "### Listeværdier kan opdateres\n",
    "Elementernes værdi kan ændres (de er _mutable_)\n",
    "\n",
    "Vi kan tilgå et element via dets indeks og ændre værdien direkte."
   ]
  },
  {
   "cell_type": "code",
   "execution_count": null,
   "id": "7a752fe5",
   "metadata": {},
   "outputs": [],
   "source": [
    "groceries = [\"rugbrød\", \"smør\", \"ost\"]\n",
    "groceries[1] = \"økologisk smør\"  # mutate element\n",
    "print(groceries)"
   ]
  },
  {
   "cell_type": "markdown",
   "id": "af3f45f8",
   "metadata": {},
   "source": [
    "### Alle datatyper\n",
    "Elementer kan være af alle datatyper.\n",
    "\n",
    "Listen kan indeholde tal, tekst, bools og endda et dictionary med danske nøgler."
   ]
  },
  {
   "cell_type": "code",
   "execution_count": null,
   "id": "acc5e300",
   "metadata": {},
   "outputs": [],
   "source": [
    "mixed = [42, \"kanelgifler\", True, {\"navn\": \"Freja\", \"alder\": 14}]\n",
    "for item in mixed:\n",
    "    print(type(item), item)  # show Python types"
   ]
  },
  {
   "cell_type": "markdown",
   "id": "7f72ce8d",
   "metadata": {},
   "source": [
    "### Den tomme liste\n",
    "\n",
    "En tom liste repræsenterer 0 elementer og kan udfyldes senere."
   ]
  },
  {
   "cell_type": "code",
   "execution_count": null,
   "id": "faf5d2c8",
   "metadata": {},
   "outputs": [],
   "source": [
    "empty_list = []\n",
    "print(len(empty_list))  # length is 0\n",
    "empty_list.append(\"cykel\")\n",
    "print(empty_list)"
   ]
  },
  {
   "cell_type": "markdown",
   "id": "df981586",
   "metadata": {},
   "source": [
    "### Iteration\n",
    "Lister er iterable i for-loop.\n",
    "\n",
    "Vi kan gennemløbe en liste og udskrive dem én for én."
   ]
  },
  {
   "cell_type": "code",
   "execution_count": null,
   "id": "c7eb99e8",
   "metadata": {},
   "outputs": [],
   "source": [
    "municipalities = [\"København\", \"Frederiksberg\", \"Aarhus\", \"Odense\"]\n",
    "for m in municipalities:  # iterable\n",
    "    print(f\"Kommunen: {m}\")"
   ]
  },
  {
   "cell_type": "markdown",
   "id": "047bfd78",
   "metadata": {},
   "source": [
    "### Test for element i liste\n",
    "Vi kan teste for eksistensen af et element i en liste med 'in'"
   ]
  },
  {
   "cell_type": "code",
   "execution_count": null,
   "id": "19a4ed07",
   "metadata": {},
   "outputs": [],
   "source": [
    "stations = [\"Nørreport\", \"Østerport\", \"Høje Taastrup\"]\n",
    "print(\"Nørreport\" in stations)   # True\n",
    "print(\"Farum\" in stations)       # False"
   ]
  },
  {
   "cell_type": "markdown",
   "id": "46d57001",
   "metadata": {},
   "source": [
    "### Enkelt-elementer med indeksering\n",
    "Vi kan læse og skrive enkeltvis enkeltvis med indeksering - [indeks].\n",
    "Første element har indeks 0. "
   ]
  },
  {
   "cell_type": "code",
   "execution_count": null,
   "id": "6aafe14f",
   "metadata": {},
   "outputs": [],
   "source": [
    "teams = [\"Brøndby\", \"FC København\", \"AGF\", \"AaB\"]\n",
    "first_team = teams[0]  # read\n",
    "teams[2] = \"Randers\"   # write\n",
    "print(first_team, teams)"
   ]
  },
  {
   "cell_type": "markdown",
   "id": "8f1d0716",
   "metadata": {},
   "source": [
    "### Delmængder af liste med [:]\n",
    "\n",
    "Vi kan tage delmængder af en liste med splice-operatoren `[ : ]`.\n",
    "\n",
    "Den har syntaksen [start : end : step]. Bemærk at man også kan begynde i den anden ende med - (minus)"
   ]
  },
  {
   "cell_type": "code",
   "execution_count": null,
   "id": "a6dd75a3",
   "metadata": {},
   "outputs": [],
   "source": [
    "months = [\"jan\",\"feb\",\"mar\",\"apr\",\"maj\",\"jun\",\"jul\",\"aug\",\"sep\",\"okt\",\"nov\",\"dec\"]\n",
    "print(months[:3])    # first three\n",
    "print(months[3:6])   # spring to early summer\n",
    "print(months[-2:])   # last two"
   ]
  },
  {
   "cell_type": "markdown",
   "id": "6402443f",
   "metadata": {},
   "source": [
    "### Opret en liste med list()\n",
    "\n",
    "EN liste kan bygges med typekonstruktøren `list()` fra en _iterable_, fx en streng."
   ]
  },
  {
   "cell_type": "code",
   "execution_count": null,
   "id": "bf6f8e6c",
   "metadata": {},
   "outputs": [],
   "source": [
    "word = \"Smørrebrød\"\n",
    "letters = list(word)  # constructor from iterable\n",
    "print(letters[:5])"
   ]
  },
  {
   "cell_type": "markdown",
   "id": "ed1f3dc5",
   "metadata": {},
   "source": [
    "### Opret en liste med range()\n",
    "\n",
    "Vi kan skabe en liste af heltal. "
   ]
  },
  {
   "cell_type": "code",
   "execution_count": null,
   "id": "737ccdef",
   "metadata": {},
   "outputs": [],
   "source": [
    "house_numbers = list(range(1, 11))  # 1..10\n",
    "print(house_numbers)"
   ]
  },
  {
   "cell_type": "markdown",
   "id": "a7f517ac",
   "metadata": {},
   "source": [
    "### Opret en liste med list comprehension\n",
    "\n",
    "List comprehension er en komprimeret måde at bygge lister på i en linje.\n",
    "Bemærk at udtrykket er omgivet af `[]`.\n",
    "\n",
    "På den måde kan vi oprette en liste med beregnede værdier i en linje."
   ]
  },
  {
   "cell_type": "code",
   "execution_count": null,
   "id": "000f6a78",
   "metadata": {},
   "outputs": [],
   "source": [
    "grades = list(range(0, 10))\n",
    "squares = [n*n for n in grades]  # list comprehension\n",
    "print(squares)"
   ]
  },
  {
   "cell_type": "markdown",
   "id": "bc10d2a6",
   "metadata": {},
   "source": [
    "### List comprehension med betingelse\n",
    "\n",
    "List comprehension kan også indeholde betingelser.\n",
    "\n",
    "Filtrér data. Kun lige husnumre fra 1..20."
   ]
  },
  {
   "cell_type": "code",
   "execution_count": null,
   "id": "299d03df",
   "metadata": {},
   "outputs": [],
   "source": [
    "evens = [n for n in range(1, 21) if n % 2 == 0]\n",
    "print(evens)"
   ]
  },
  {
   "cell_type": "markdown",
   "id": "cd13593d",
   "metadata": {},
   "source": [
    "### Tilføj et element med append()\n",
    "\n",
    "Vi kan tilføeje et element til en liste med metoden `append(item)`.\n",
    "\n",
    "Bemærk _dot-notationen_ `list.append()`."
   ]
  },
  {
   "cell_type": "code",
   "execution_count": null,
   "id": "f9c9378e",
   "metadata": {},
   "outputs": [],
   "source": [
    "dishes = [\"frikadeller\", \"flæskesteg\"]\n",
    "dishes.append(\"stegt flæsk\")  # add at end\n",
    "print(dishes)"
   ]
  },
  {
   "cell_type": "markdown",
   "id": "3976b82f",
   "metadata": {},
   "source": [
    "### Saml to lister med extend() \n",
    "\n",
    "Vi udvider listen med flere elementer ad gangen."
   ]
  },
  {
   "cell_type": "code",
   "execution_count": null,
   "id": "df5120dd",
   "metadata": {},
   "outputs": [],
   "source": [
    "north_jutland = [\"Skagen\", \"Hirtshals\"]\n",
    "more = [\"Frederikshavn\", \"Aalborg\"]\n",
    "north_jutland.extend(more)  # add many\n",
    "print(north_jutland)"
   ]
  },
  {
   "cell_type": "markdown",
   "id": "13af8d8d",
   "metadata": {},
   "source": [
    "### Indsætter et element via indeks med insert()\n",
    "\n",
    "Vi kan indsætte et element på en bestemt position."
   ]
  },
  {
   "cell_type": "code",
   "execution_count": null,
   "id": "06540e8c",
   "metadata": {},
   "outputs": [],
   "source": [
    "s_train = [\"Klampenborg\", \"Hellerup\", \"Nørreport\"]\n",
    "s_train.insert(2, \"Østerport\")  # insert at index 2\n",
    "print(s_train)"
   ]
  },
  {
   "cell_type": "markdown",
   "id": "569510b0",
   "metadata": {},
   "source": [
    "### Fjern første forekomst med remove()\n",
    "\n",
    "Vi fjerner en by fra listen, hvis den findes."
   ]
  },
  {
   "cell_type": "code",
   "execution_count": null,
   "id": "9d20f7b2",
   "metadata": {},
   "outputs": [],
   "source": [
    "towns = [\"Vejle\", \"Horsens\", \"Kolding\", \"Vejle\"]\n",
    "towns.remove(\"Vejle\")  # removes first occurrence\n",
    "print(towns)"
   ]
  },
  {
   "cell_type": "markdown",
   "id": "a4323844",
   "metadata": {},
   "source": [
    "### Fjern og returner element med pop()\n",
    "\n",
    "Vi kan poppe sidste eller et bestemt element og få det tilbage.\n",
    "Bemærk at vi gemmer returværdien i en variabel."
   ]
  },
  {
   "cell_type": "code",
   "execution_count": null,
   "id": "19c2e49f",
   "metadata": {},
   "outputs": [],
   "source": [
    "queue = [\"kunde1\", \"kunde2\", \"kunde3\"]\n",
    "last = queue.pop()          # removes last\n",
    "first = queue.pop(0)        # removes index 0\n",
    "print(last, first, queue)"
   ]
  },
  {
   "cell_type": "markdown",
   "id": "fdc5f550",
   "metadata": {},
   "source": [
    "### Sortering af lister med sort() og sorted()\n",
    "\n",
    "Der findes to metoder som fungerer forskelligt. \n",
    "\n",
    "sort() ændrer listen in-place. \n",
    "\n",
    "sorted() laver en ny sorteret liste. VI gemmer returværdien i en variabel."
   ]
  },
  {
   "cell_type": "code",
   "execution_count": null,
   "id": "639e4c95",
   "metadata": {},
   "outputs": [],
   "source": [
    "clubs = [\"Silkeborg\", \"Lyngby\", \"Midtjylland\", \"OB\"]\n",
    "sorted_clubs = sorted(clubs)    # new list\n",
    "clubs.sort()                    # mutate original\n",
    "print(sorted_clubs)\n",
    "print(clubs)"
   ]
  },
  {
   "cell_type": "markdown",
   "id": "086c4f5a",
   "metadata": {},
   "source": [
    "### Vend listen om med reverse()\n",
    "\n",
    "Vi vend en liste med metoden _reverse()_."
   ]
  },
  {
   "cell_type": "code",
   "execution_count": null,
   "id": "509b8cb6",
   "metadata": {},
   "outputs": [],
   "source": [
    "islands = [\"Bornholm\", \"Fyn\", \"Langeland\", \"Als\"]\n",
    "islands.reverse()  # in-place reverse\n",
    "print(islands)"
   ]
  },
  {
   "cell_type": "markdown",
   "id": "f4aaaa59",
   "metadata": {},
   "source": [
    "### Lav en kopi med copy()\n",
    "Når vi bruger `copy()`, laver vi en _shallow copy_. \n",
    "\n"
   ]
  },
  {
   "cell_type": "code",
   "execution_count": null,
   "id": "0d3ea474",
   "metadata": {},
   "outputs": [],
   "source": [
    "fruits = [\"æble\", \"pære\", \"blomme\"]\n",
    "clone = fruits.copy()   # shallow copy\n",
    "fruits.append(\"banan\")\n",
    "\n",
    "print(\"original:\", fruits)\n",
    "print(\"copy    :\", clone)"
   ]
  },
  {
   "cell_type": "markdown",
   "id": "e85e07e4",
   "metadata": {},
   "source": [
    "Hvis original og kopi \"peger på\" de samme objekter, vil ændringer det ene sted slå igennem begge steder. \n",
    "\n",
    "Ændringer i det yderste lag påvirker altså kke kopien, men ændringer i indre lister (nested) gør."
   ]
  },
  {
   "cell_type": "code",
   "execution_count": null,
   "id": "ae002f7c",
   "metadata": {},
   "outputs": [],
   "source": [
    "original = [[\"rye bread\"], [\"butter\"]]  # nested list to illustrate shallow copy\n",
    "clone = original.copy()        # shallow copy\n",
    "original[0].append(\"seeds\")    # mutate inner list affects both\n",
    "print(\"original:\", original)\n",
    "print(\"clone   :\", clone)\n",
    "original.clear()               # empty original list object\n",
    "print(\"after clear, original:\", original)"
   ]
  },
  {
   "cell_type": "markdown",
   "id": "e7857484",
   "metadata": {},
   "source": [
    "### Lister i lister (matrix)\n",
    "En matrix kan repræsenteres som en liste i liste. Vi kan tilgå rækker og elementer via dobbelte indeks."
   ]
  },
  {
   "cell_type": "code",
   "execution_count": null,
   "id": "bf4ceba9",
   "metadata": {},
   "outputs": [],
   "source": [
    "matrix = [\n",
    "    [1, 2, 3],      # row 0\n",
    "    [4, 5, 6],      # row 1\n",
    "    [7, 8, 9]       # row 2\n",
    "]\n",
    "\n",
    "print(matrix[0])      # entire row 0\n",
    "print(matrix[1][2])   # element from row 1, column 2 (the number 6)\n",
    "\n",
    "# Iterate matrix\n",
    "for row in matrix:\n",
    "    print(row)"
   ]
  },
  {
   "cell_type": "markdown",
   "id": "0c4baf38",
   "metadata": {},
   "source": [
    "### Iteration af liste med enumerate()\n",
    "Vi kan hente og udskrive indeks på en liste med `enumerate()`."
   ]
  },
  {
   "cell_type": "code",
   "execution_count": null,
   "id": "e6d4b777",
   "metadata": {},
   "outputs": [],
   "source": [
    "navne = [\"Ida\",\"Jon\",\"Kai\"]\n",
    "for i, navn in enumerate(navne, start=1):\n",
    "    print(i, navn)"
   ]
  },
  {
   "cell_type": "markdown",
   "id": "f7b8a1c6",
   "metadata": {},
   "source": [
    "### Kombination af to lister med zip()\n",
    "\n",
    "Vi kan kombinere to lister med metoden `zip()`."
   ]
  },
  {
   "cell_type": "code",
   "execution_count": null,
   "id": "9591b370",
   "metadata": {},
   "outputs": [],
   "source": [
    "navne = [\"Ida\",\"Jon\",\"Kai\"]\n",
    "point = [12,10,15]\n",
    "for n, p in zip(navne, point):\n",
    "    print(f\"{n}: {p}\")"
   ]
  }
 ],
 "metadata": {
  "kernelspec": {
   "display_name": "Python 3",
   "language": "python",
   "name": "python3"
  },
  "language_info": {
   "codemirror_mode": {
    "name": "ipython",
    "version": 3
   },
   "file_extension": ".py",
   "mimetype": "text/x-python",
   "name": "python",
   "nbconvert_exporter": "python",
   "pygments_lexer": "ipython3",
   "version": "3.12.5"
  }
 },
 "nbformat": 4,
 "nbformat_minor": 5
}
