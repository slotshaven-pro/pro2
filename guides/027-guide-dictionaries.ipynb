{
 "cells": [
  {
   "cell_type": "markdown",
   "id": "1d327204",
   "metadata": {},
   "source": [
    "# Dictionaries i Python\n",
    "\n",
    "*Læs forklaringen, og afprøv eksemplet.*"
   ]
  },
  {
   "cell_type": "markdown",
   "id": "0b09a624",
   "metadata": {},
   "source": [
    "### Key:Value elementer i et dictionary\n",
    "\n",
    "Et dictionary oprettes med krølle-perenteser: `{`\"key\": value`}`. Nøgler og værdier separeres med kolon.\n",
    "\n",
    "Værdier kan være af vilkårlig type, men ofte bruges strenge som nøgler.\n"
   ]
  },
  {
   "cell_type": "code",
   "execution_count": null,
   "id": "c775fae5",
   "metadata": {},
   "outputs": [
    {
     "name": "stdout",
     "output_type": "stream",
     "text": [
      "{'København': 1000, 'Aarhus': 8000, 'Odense': 5000}\n"
     ]
    }
   ],
   "source": [
    "zip_codes = {\"København\": 1000, \"Aarhus\": 8000, \"Odense\": 5000}  # key:value pairs\n",
    "print(zip_codes)"
   ]
  },
  {
   "cell_type": "markdown",
   "id": "fce79e92",
   "metadata": {},
   "source": [
    "### Alle elementer har en nøgle\n",
    "Adgang sker via nøgle: `d['nøgle']`.\n",
    "\n",
    "Bemærk: Direkte opslag fejler med KeyError hvis nøglen mangler. Brug evt. `get()`."
   ]
  },
  {
   "cell_type": "code",
   "execution_count": 46,
   "id": "920415e3",
   "metadata": {},
   "outputs": [
    {
     "name": "stdout",
     "output_type": "stream",
     "text": [
      "22 11 00 33\n",
      "{'Anna': '22 11 00 33', 'Bo': '40 00 00 00'}\n"
     ]
    }
   ],
   "source": [
    "phones = {\"Anna\": \"22 11 00 33\", \"Bo\": \"40 12 34 56\"}\n",
    "print(phones[\"Anna\"])  # read by key\n",
    "phones[\"Bo\"] = \"40 00 00 00\"  # write by key\n",
    "print(phones)"
   ]
  },
  {
   "cell_type": "markdown",
   "id": "9896440b",
   "metadata": {},
   "source": [
    "### Nøgler skal være unikke\n",
    "Dictioneries tillader ikke nøgle-dupletter.\n",
    "\n",
    "Bemærk: Hvis man bruger den samme nøgle, overskrives den tidligere uden advarsel: `{'navn': 'først', 'navn': 'sidst'}`."
   ]
  },
  {
   "cell_type": "code",
   "execution_count": 47,
   "id": "9fa4d5df",
   "metadata": {},
   "outputs": [
    {
     "name": "stdout",
     "output_type": "stream",
     "text": [
      "{'smørrebrød': 60, 'frikadeller': 95}\n"
     ]
    }
   ],
   "source": [
    "menu = {\"smørrebrød\": 55, \"smørrebrød\": 60, \"frikadeller\": 95}\n",
    "print(menu)  # 'smørrebrød' - only last entry is saved"
   ]
  },
  {
   "cell_type": "markdown",
   "id": "70fab476",
   "metadata": {},
   "source": [
    "### Læsning og skrivning af værdier\n",
    "\n",
    "**Syntaks**  \n",
    "Vi opdeterer en værdi via nøglen: `d[key] = value`.\n",
    "Og læser på samme måde: `value = d[key]`.\n",
    "\n",
    "Bemærk: Direkte opslag kræver at nøglen findes. Alternativ: brug `get(key, default)` \n"
   ]
  },
  {
   "cell_type": "code",
   "execution_count": 50,
   "id": "e86b4cf4",
   "metadata": {},
   "outputs": [
    {
     "name": "stdout",
     "output_type": "stream",
     "text": [
      "{'rugbrød': 15, 'smør': 7}\n"
     ]
    }
   ],
   "source": [
    "stock = {\"rugbrød\": 10}\n",
    "stock[\"rugbrød\"] = stock[\"rugbrød\"] + 5  # update\n",
    "stock[\"smør\"] = 7\n",
    "\n",
    "if 'mælk' in stock:\n",
    "    print(stock['mælk'])                       # insert new\n",
    "print(stock)"
   ]
  },
  {
   "cell_type": "markdown",
   "id": "e13b1368",
   "metadata": {},
   "source": [
    "### Sikker læsning med get() med default\n",
    "\n",
    "Hvis man bruger metoden `get()` får man aldrig en fejl. \n",
    "\n",
    "Man kan angive en default-værdi som andet parameter som gælder hvis nøglen ikke findes.\n",
    "\n",
    "**Syntaks**  \n",
    "`value = d.get(key, default)`"
   ]
  },
  {
   "cell_type": "code",
   "execution_count": null,
   "id": "702d5ff2",
   "metadata": {},
   "outputs": [
    {
     "name": "stdout",
     "output_type": "stream",
     "text": [
      "None\n",
      "<class 'NoneType'>\n"
     ]
    }
   ],
   "source": [
    "stock = {\"mælk\": 12}\n",
    "y_stock = print(stock.get(\"yoghurt\", None))\n",
    "\n",
    "print(type(y_stock)) # default 0\n",
    "# print(stock.get(\"mælk\", 0))"
   ]
  },
  {
   "cell_type": "markdown",
   "id": "256186c1",
   "metadata": {},
   "source": [
    "### Test om nøglen eksisterer\n",
    "\n",
    "Man kan teste om en nøgle eksisterer med keywordet `in`.\n",
    "Kan ikke bruges til at finde værdier, kun nøgler.\n",
    "\n",
    "\n",
    "**Syntaks**  \n",
    "```\n",
    "key in d\n",
    "```\n",
    "\n",
    "Bemærk: Dette er et _udtryk_ med en sandhedsværdi så det evalueres altid til sandt eller falsk.\n"
   ]
  },
  {
   "cell_type": "code",
   "execution_count": 59,
   "id": "9c054e28",
   "metadata": {},
   "outputs": [
    {
     "name": "stdout",
     "output_type": "stream",
     "text": [
      "True\n",
      "False\n"
     ]
    }
   ],
   "source": [
    "classroom = {\"Freja\": 9, \"Noah\": 8, \"Alma\": 9}  # value = klassetrin\n",
    "print(\"Freja\" in classroom)  # True\n",
    "print(9 in classroom)        # False, membership checks keys"
   ]
  },
  {
   "cell_type": "markdown",
   "id": "0f50d40e",
   "metadata": {},
   "source": [
    "### Indlejrede datatyper\n",
    "Et dictionary kan indeholde alle datatyper som _værdier_. \n",
    "\n",
    "**Bemærk**  \n",
    "Man kan ikke bruge alle datatyper som nøgler, fx kan lister ikke bruges."
   ]
  },
  {
   "cell_type": "code",
   "execution_count": 60,
   "id": "5e79758c",
   "metadata": {},
   "outputs": [
    {
     "name": "stdout",
     "output_type": "stream",
     "text": [
      "{'owner': 'Mads', 'balance': 123.5, 'zones': [1, 2], 'meta': {'created': '2025-01-10', 'active': True}, 'cities': ['København', 'Holbæk']}\n"
     ]
    }
   ],
   "source": [
    "travelcard = {\n",
    "    \"owner\": \"Mads\",\n",
    "    \"balance\": 123.50,\n",
    "    \"zones\": [1, 2],\n",
    "    \"meta\": {\"created\": \"2025-01-10\", \"active\": True},\n",
    "    \"cities\": ['København','Holbæk']\n",
    "}\n",
    "print(travelcard)"
   ]
  },
  {
   "cell_type": "markdown",
   "id": "a2506058",
   "metadata": {},
   "source": [
    "### Gennemløb med for-loop\n",
    "\n",
    "**Syntaks**  \n",
    "`for key in d:`\n",
    "\n",
    "Bemærk: brug metoden `items()` hvis du også skal bruge nøglerne.\n"
   ]
  },
  {
   "cell_type": "code",
   "execution_count": 61,
   "id": "ff76da1a",
   "metadata": {},
   "outputs": [
    {
     "name": "stdout",
     "output_type": "stream",
     "text": [
      "Hvidovre\n",
      "Gladsaxe\n",
      "Lyngby\n"
     ]
    }
   ],
   "source": [
    "municipalities = {\"Hvidovre\": 1, \"Gladsaxe\": 2, \"Lyngby\": 3}\n",
    "for m in municipalities:  # iterates keys\n",
    "    print(m)"
   ]
  },
  {
   "cell_type": "markdown",
   "id": "466a5262",
   "metadata": {},
   "source": [
    "### Dict comprehension\n",
    "\n",
    "Man kan bygge en dict med _dict comprehension_ - som minder om list comprehension.\n",
    "\n",
    "**Syntaks**  \n",
    "`{key:value for ...}`\n"
   ]
  },
  {
   "cell_type": "code",
   "execution_count": 64,
   "id": "31a83937",
   "metadata": {},
   "outputs": [
    {
     "name": "stdout",
     "output_type": "stream",
     "text": [
      "{'M1': 'jan', 'M2': 'feb', 'M3': 'mar', 'M4': 'apr', 'M5': 'maj', 'M6': 'jun', 'M7': 'jul', 'M8': 'aug', 'M9': 'sep', 'M10': 'okt', 'M11': 'nov', 'M12': 'dec'}\n"
     ]
    }
   ],
   "source": [
    "months = [\"jan\", \"feb\", \"mar\", \"apr\", \"maj\", \"jun\", \"jul\", \"aug\", \"sep\", \"okt\", \"nov\", \"dec\"]\n",
    "lengths = {'M' + str(k + 1): v for k,v in enumerate(months)}\n",
    "print(lengths)"
   ]
  },
  {
   "cell_type": "markdown",
   "id": "e25c674f",
   "metadata": {},
   "source": [
    "### Hent alle nøgler med keys()\n",
    "\n",
    "Metoden `keys()` returnerer alle nøgler fra et dictionary som et _dynamisk view_.\n",
    "\n",
    "**Syntaks**  \n",
    "`d.keys()`\n",
    "\n",
    "Bemærk: fordi `subjects` er et dynamisk view, så opdateres det hvis dictionary ændres.\n"
   ]
  },
  {
   "cell_type": "code",
   "execution_count": 65,
   "id": "26fc3454",
   "metadata": {},
   "outputs": [
    {
     "name": "stdout",
     "output_type": "stream",
     "text": [
      "Liste af nøgler:  ['matematik', 'dansk']\n",
      "Opdateret liste af nøgler:  ['matematik', 'dansk', 'engelsk']\n"
     ]
    }
   ],
   "source": [
    "schedule = {\"matematik\": \"08:00\", \"dansk\": \"09:00\"}\n",
    "subjects = schedule.keys()\n",
    "print('Liste af nøgler: ', list(subjects))\n",
    "\n",
    "schedule[\"engelsk\"] = \"10:00\" # add entry\n",
    "print('Opdateret liste af nøgler: ', list(subjects)) # k is dynamically updated"
   ]
  },
  {
   "cell_type": "markdown",
   "id": "7eb4cade",
   "metadata": {},
   "source": [
    "### Hent alle værdier med values()\n",
    "\n",
    "Metoden `values()` returnerer alle værdier fra et dictionary som et _dynamisk view_.\n",
    "\n",
    "**Syntaks**  \n",
    "`d.values()`"
   ]
  },
  {
   "cell_type": "code",
   "execution_count": 66,
   "id": "d07547f3",
   "metadata": {},
   "outputs": [
    {
     "name": "stdout",
     "output_type": "stream",
     "text": [
      "75\n"
     ]
    }
   ],
   "source": [
    "receipt = {\"kaffe\": 30, \"bolle\": 20, \"juice\": 25}\n",
    "total = sum(receipt.values())\n",
    "print(total)"
   ]
  },
  {
   "cell_type": "markdown",
   "id": "b18b1024",
   "metadata": {},
   "source": [
    "### Hent både nøgler og værdier med items()\n",
    "\n",
    "**Syntaks**  \n",
    "`d.items()`\n",
    "\n",
    "Bemærk: `items()`returnerer (key, value) som en tupel.\n"
   ]
  },
  {
   "cell_type": "code",
   "execution_count": 63,
   "id": "8958246f",
   "metadata": {},
   "outputs": [
    {
     "name": "stdout",
     "output_type": "stream",
     "text": [
      "historie: 11:00\n",
      "biologi: 12:00\n",
      "('historie', '11:00')  of type  <class 'tuple'>\n"
     ]
    }
   ],
   "source": [
    "schedule = {\"historie\": \"11:00\", \"biologi\": \"12:00\"}\n",
    "for subject, time in schedule.items():\n",
    "    print(f\"{subject}: {time}\")\n",
    "\n",
    "t = list(schedule.items())[0] # convert to list and get index 0\n",
    "print(t, ' of type ', type(t)) # type is tuple\n"
   ]
  },
  {
   "cell_type": "markdown",
   "id": "27c68874",
   "metadata": {},
   "source": [
    "### Fjern nøgle med keyword del\n",
    "\n",
    "Fjern nøgle (og dermed værdier) med `del`\n",
    "\n",
    "**Syntaks**  \n",
    "`del d[key]`\n",
    "\n",
    "Bemærk: `del`er et keyword - ikke en funktion eller metode.\n"
   ]
  },
  {
   "cell_type": "code",
   "execution_count": 72,
   "id": "01a244f0",
   "metadata": {},
   "outputs": [
    {
     "name": "stdout",
     "output_type": "stream",
     "text": [
      "3\n",
      "{'æble': 5, 'pære': 2}\n"
     ]
    }
   ],
   "source": [
    "cart = {\"banan\": 3, \"æble\": 5, \"pære\": 2}\n",
    "# del cart[\"banan\"]\n",
    "\n",
    "banan = cart.pop(\"banan\")\n",
    "print(banan)\n",
    "print(cart)"
   ]
  },
  {
   "cell_type": "markdown",
   "id": "37efbb6d",
   "metadata": {},
   "source": [
    "### Fjern og læs værdi med pop()\n",
    "\n",
    "Funktionen `pop()` fjerner og returnerer elementet med nøglen.\n",
    "\n",
    "**Syntaks**  \n",
    "`d.pop(key, default)`\n",
    "\n",
    "Bemærk: Angiv defaultværdi for at undgå nøglefejl.\n"
   ]
  },
  {
   "cell_type": "code",
   "execution_count": 44,
   "id": "ff1f3153",
   "metadata": {},
   "outputs": [
    {
     "name": "stdout",
     "output_type": "stream",
     "text": [
      "Værdi for æbler:  5\n",
      "Kurven indeholder {'banan': 3, 'pære': 2}\n"
     ]
    }
   ],
   "source": [
    "cart = {\"banan\": 3, \"æble\": 5, \"pære\": 2}\n",
    "qty = cart.pop(\"æble\") # returns removed value\n",
    "print('Værdi for æbler: ', qty)\n",
    "print('Kurven indeholder', cart)"
   ]
  },
  {
   "cell_type": "markdown",
   "id": "a2d99012",
   "metadata": {},
   "source": [
    "### Indlejrede dictionaries i dictionaries\n",
    "\n",
    "**Syntaks**  \n",
    "`{... 'elev': {'navn': ..., 'klasse': ...} ...}`\n",
    "\n",
    "Bemærk: Man læse værdien via \"dobbeltindeks\", fx `d['Ida']['klasse']`.\n"
   ]
  },
  {
   "cell_type": "code",
   "execution_count": null,
   "id": "08cb132a",
   "metadata": {},
   "outputs": [],
   "source": [
    "register = {\n",
    "    \"Ida\": {\"klasse\": \"8B\", \"email\": \"ida@example.dk\"},\n",
    "    \"Malthe\": {\"klasse\": \"9A\", \"email\": \"malthe@example.dk\"}\n",
    "}\n",
    "print(register[\"Ida\"][\"klasse\"])\n",
    "register[\"Ida\"][\"email\"] = \"ida@skole.dk\"\n",
    "print(register[\"Ida\"])"
   ]
  }
 ],
 "metadata": {
  "kernelspec": {
   "display_name": "Python 3",
   "language": "python",
   "name": "python3"
  },
  "language_info": {
   "codemirror_mode": {
    "name": "ipython",
    "version": 3
   },
   "file_extension": ".py",
   "mimetype": "text/x-python",
   "name": "python",
   "nbconvert_exporter": "python",
   "pygments_lexer": "ipython3",
   "version": "3.12.5"
  }
 },
 "nbformat": 4,
 "nbformat_minor": 5
}
